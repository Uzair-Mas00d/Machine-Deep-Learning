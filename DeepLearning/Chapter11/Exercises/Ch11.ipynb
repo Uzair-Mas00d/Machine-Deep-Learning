{
 "cells": [
  {
   "cell_type": "code",
   "execution_count": 1,
   "metadata": {},
   "outputs": [],
   "source": [
    "import tensorflow as tf\n",
    "\n",
    "model = tf.keras.models.Sequential()\n",
    "model.add(tf.keras.layers.Flatten(input_shape=[32,32,3]))\n",
    "for _ in range(20):\n",
    "    model.add(tf.keras.layers.Dense(100, activation='swish', kernel_initializer='he_normal'))"
   ]
  },
  {
   "cell_type": "code",
   "execution_count": 2,
   "metadata": {},
   "outputs": [],
   "source": [
    "model.add(tf.keras.layers.Dense(10, activation='softmax'))"
   ]
  },
  {
   "cell_type": "code",
   "execution_count": 3,
   "metadata": {},
   "outputs": [],
   "source": [
    "optimizer = tf.keras.optimizers.Nadam(learning_rate=5e-5)\n",
    "model.compile(loss=\"sparse_categorical_crossentropy\", \n",
    "              optimizer=optimizer, \n",
    "              metrics=[\"accuracy\"])"
   ]
  },
  {
   "cell_type": "code",
   "execution_count": 2,
   "metadata": {},
   "outputs": [],
   "source": [
    "(X_train_full, y_train_full), (X_test, y_test) = tf.keras.datasets.cifar10.load_data()"
   ]
  },
  {
   "cell_type": "code",
   "execution_count": 3,
   "metadata": {},
   "outputs": [],
   "source": [
    "X_train = X_train_full[5000:]\n",
    "y_train = y_train_full[5000:]\n",
    "X_valid = X_train_full[:5000]\n",
    "y_valid = y_train_full[:5000]"
   ]
  },
  {
   "cell_type": "code",
   "execution_count": 6,
   "metadata": {},
   "outputs": [
    {
     "data": {
      "text/plain": [
       "(45000, 32, 32, 3)"
      ]
     },
     "execution_count": 6,
     "metadata": {},
     "output_type": "execute_result"
    }
   ],
   "source": [
    "X_train.shape"
   ]
  },
  {
   "cell_type": "code",
   "execution_count": 7,
   "metadata": {},
   "outputs": [
    {
     "data": {
      "text/plain": [
       "(45000, 1)"
      ]
     },
     "execution_count": 7,
     "metadata": {},
     "output_type": "execute_result"
    }
   ],
   "source": [
    "y_train.shape"
   ]
  },
  {
   "cell_type": "code",
   "execution_count": 4,
   "metadata": {},
   "outputs": [
    {
     "data": {
      "image/png": "[encoded data removed]",
      "text/plain": [
       "<Figure size 640x480 with 1 Axes>"
      ]
     },
     "metadata": {},
     "output_type": "display_data"
    }
   ],
   "source": [
    "import matplotlib.pyplot as plt\n",
    "\n",
    "plt.imshow(X_train[0])\n",
    "plt.show()"
   ]
  },
  {
   "cell_type": "code",
   "execution_count": null,
   "metadata": {},
   "outputs": [],
   "source": [
    "early_stopping = tf.keras.callbacks.EarlyStopping(patience=20, restore_best_weights=True)\n",
    "checkpoint = tf.keras.callbacks.ModelCheckpoint(\"my_cifar10_model\",\n",
    "                                               save_best_only=True)\n",
    "model.fit(X_train, y_train, epochs=100,\n",
    "          validation_data=(X_valid, y_valid),\n",
    "          callbacks=[early_stopping,checkpoint])"
   ]
  },
  {
   "cell_type": "code",
   "execution_count": 9,
   "metadata": {},
   "outputs": [],
   "source": [
    "model =  tf.keras.models.load_model('./my_cifar10_model/')"
   ]
  },
  {
   "cell_type": "code",
   "execution_count": 10,
   "metadata": {},
   "outputs": [
    {
     "name": "stdout",
     "output_type": "stream",
     "text": [
      "157/157 [==============================] - 2s 8ms/step - loss: 1.5164 - accuracy: 0.4624\n"
     ]
    },
    {
     "data": {
      "text/plain": [
       "[1.5164356231689453, 0.46239998936653137]"
      ]
     },
     "execution_count": 10,
     "metadata": {},
     "output_type": "execute_result"
    }
   ],
   "source": [
    "model.evaluate(X_valid, y_valid)"
   ]
  },
  {
   "cell_type": "code",
   "execution_count": 15,
   "metadata": {},
   "outputs": [
    {
     "name": "stdout",
     "output_type": "stream",
     "text": [
      "Epoch 1/100\n",
      "1405/1407 [============================>.] - ETA: 0s - loss: 2.3872 - accuracy: 0.1319INFO:tensorflow:Assets written to: my_cifar10_model_batch_norm\\assets\n"
     ]
    },
    {
     "name": "stderr",
     "output_type": "stream",
     "text": [
      "INFO:tensorflow:Assets written to: my_cifar10_model_batch_norm\\assets\n"
     ]
    },
    {
     "name": "stdout",
     "output_type": "stream",
     "text": [
      "1407/1407 [==============================] - 101s 49ms/step - loss: 2.3871 - accuracy: 0.1319 - val_loss: 3.2655 - val_accuracy: 0.1708\n",
      "Epoch 2/100\n",
      "1407/1407 [==============================] - ETA: 0s - loss: 2.1706 - accuracy: 0.1929INFO:tensorflow:Assets written to: my_cifar10_model_batch_norm\\assets\n"
     ]
    },
    {
     "name": "stderr",
     "output_type": "stream",
     "text": [
      "INFO:tensorflow:Assets written to: my_cifar10_model_batch_norm\\assets\n"
     ]
    },
    {
     "name": "stdout",
     "output_type": "stream",
     "text": [
      "1407/1407 [==============================] - 58s 41ms/step - loss: 2.1706 - accuracy: 0.1929 - val_loss: 2.2223 - val_accuracy: 0.2302\n",
      "Epoch 3/100\n",
      "1407/1407 [==============================] - ETA: 0s - loss: 2.0321 - accuracy: 0.2491INFO:tensorflow:Assets written to: my_cifar10_model_batch_norm\\assets\n"
     ]
    },
    {
     "name": "stderr",
     "output_type": "stream",
     "text": [
      "INFO:tensorflow:Assets written to: my_cifar10_model_batch_norm\\assets\n"
     ]
    },
    {
     "name": "stdout",
     "output_type": "stream",
     "text": [
      "1407/1407 [==============================] - 57s 40ms/step - loss: 2.0321 - accuracy: 0.2491 - val_loss: 2.0773 - val_accuracy: 0.2656\n",
      "Epoch 4/100\n",
      "1406/1407 [============================>.] - ETA: 0s - loss: 1.9315 - accuracy: 0.2910INFO:tensorflow:Assets written to: my_cifar10_model_batch_norm\\assets\n"
     ]
    },
    {
     "name": "stderr",
     "output_type": "stream",
     "text": [
      "INFO:tensorflow:Assets written to: my_cifar10_model_batch_norm\\assets\n"
     ]
    },
    {
     "name": "stdout",
     "output_type": "stream",
     "text": [
      "1407/1407 [==============================] - 60s 43ms/step - loss: 1.9315 - accuracy: 0.2910 - val_loss: 1.8888 - val_accuracy: 0.3184\n",
      "Epoch 5/100\n",
      "1406/1407 [============================>.] - ETA: 0s - loss: 1.8581 - accuracy: 0.3239INFO:tensorflow:Assets written to: my_cifar10_model_batch_norm\\assets\n"
     ]
    },
    {
     "name": "stderr",
     "output_type": "stream",
     "text": [
      "INFO:tensorflow:Assets written to: my_cifar10_model_batch_norm\\assets\n"
     ]
    },
    {
     "name": "stdout",
     "output_type": "stream",
     "text": [
      "1407/1407 [==============================] - 58s 41ms/step - loss: 1.8583 - accuracy: 0.3238 - val_loss: 1.8659 - val_accuracy: 0.3200\n",
      "Epoch 6/100\n",
      "1406/1407 [============================>.] - ETA: 0s - loss: 1.7993 - accuracy: 0.3524INFO:tensorflow:Assets written to: my_cifar10_model_batch_norm\\assets\n"
     ]
    },
    {
     "name": "stderr",
     "output_type": "stream",
     "text": [
      "INFO:tensorflow:Assets written to: my_cifar10_model_batch_norm\\assets\n"
     ]
    },
    {
     "name": "stdout",
     "output_type": "stream",
     "text": [
      "1407/1407 [==============================] - 58s 41ms/step - loss: 1.7992 - accuracy: 0.3524 - val_loss: 1.7497 - val_accuracy: 0.3732\n",
      "Epoch 7/100\n",
      "1407/1407 [==============================] - ETA: 0s - loss: 1.7362 - accuracy: 0.3745INFO:tensorflow:Assets written to: my_cifar10_model_batch_norm\\assets\n"
     ]
    },
    {
     "name": "stderr",
     "output_type": "stream",
     "text": [
      "INFO:tensorflow:Assets written to: my_cifar10_model_batch_norm\\assets\n"
     ]
    },
    {
     "name": "stdout",
     "output_type": "stream",
     "text": [
      "1407/1407 [==============================] - 56s 40ms/step - loss: 1.7362 - accuracy: 0.3745 - val_loss: 1.7246 - val_accuracy: 0.3788\n",
      "Epoch 8/100\n",
      "1407/1407 [==============================] - ETA: 0s - loss: 1.6906 - accuracy: 0.3930INFO:tensorflow:Assets written to: my_cifar10_model_batch_norm\\assets\n"
     ]
    },
    {
     "name": "stderr",
     "output_type": "stream",
     "text": [
      "INFO:tensorflow:Assets written to: my_cifar10_model_batch_norm\\assets\n"
     ]
    },
    {
     "name": "stdout",
     "output_type": "stream",
     "text": [
      "1407/1407 [==============================] - 55s 39ms/step - loss: 1.6906 - accuracy: 0.3930 - val_loss: 1.6516 - val_accuracy: 0.4012\n",
      "Epoch 9/100\n",
      "1406/1407 [============================>.] - ETA: 0s - loss: 1.6467 - accuracy: 0.4104INFO:tensorflow:Assets written to: my_cifar10_model_batch_norm\\assets\n"
     ]
    },
    {
     "name": "stderr",
     "output_type": "stream",
     "text": [
      "INFO:tensorflow:Assets written to: my_cifar10_model_batch_norm\\assets\n"
     ]
    },
    {
     "name": "stdout",
     "output_type": "stream",
     "text": [
      "1407/1407 [==============================] - 55s 39ms/step - loss: 1.6469 - accuracy: 0.4103 - val_loss: 1.6226 - val_accuracy: 0.4278\n",
      "Epoch 10/100\n",
      "1407/1407 [==============================] - 36s 25ms/step - loss: 1.6139 - accuracy: 0.4222 - val_loss: 1.7818 - val_accuracy: 0.3718\n",
      "Epoch 11/100\n",
      "1406/1407 [============================>.] - ETA: 0s - loss: 1.5810 - accuracy: 0.4364INFO:tensorflow:Assets written to: my_cifar10_model_batch_norm\\assets\n"
     ]
    },
    {
     "name": "stderr",
     "output_type": "stream",
     "text": [
      "INFO:tensorflow:Assets written to: my_cifar10_model_batch_norm\\assets\n"
     ]
    },
    {
     "name": "stdout",
     "output_type": "stream",
     "text": [
      "1407/1407 [==============================] - 55s 39ms/step - loss: 1.5810 - accuracy: 0.4364 - val_loss: 1.6094 - val_accuracy: 0.4302\n",
      "Epoch 12/100\n",
      "1407/1407 [==============================] - ETA: 0s - loss: 1.5544 - accuracy: 0.4412INFO:tensorflow:Assets written to: my_cifar10_model_batch_norm\\assets\n"
     ]
    },
    {
     "name": "stderr",
     "output_type": "stream",
     "text": [
      "INFO:tensorflow:Assets written to: my_cifar10_model_batch_norm\\assets\n"
     ]
    },
    {
     "name": "stdout",
     "output_type": "stream",
     "text": [
      "1407/1407 [==============================] - 57s 40ms/step - loss: 1.5544 - accuracy: 0.4412 - val_loss: 1.5681 - val_accuracy: 0.4328\n",
      "Epoch 13/100\n",
      "1405/1407 [============================>.] - ETA: 0s - loss: 1.5281 - accuracy: 0.4545INFO:tensorflow:Assets written to: my_cifar10_model_batch_norm\\assets\n"
     ]
    },
    {
     "name": "stderr",
     "output_type": "stream",
     "text": [
      "INFO:tensorflow:Assets written to: my_cifar10_model_batch_norm\\assets\n"
     ]
    },
    {
     "name": "stdout",
     "output_type": "stream",
     "text": [
      "1407/1407 [==============================] - 56s 40ms/step - loss: 1.5281 - accuracy: 0.4546 - val_loss: 1.5645 - val_accuracy: 0.4406\n",
      "Epoch 14/100\n",
      "1405/1407 [============================>.] - ETA: 0s - loss: 1.5046 - accuracy: 0.4625INFO:tensorflow:Assets written to: my_cifar10_model_batch_norm\\assets\n"
     ]
    },
    {
     "name": "stderr",
     "output_type": "stream",
     "text": [
      "INFO:tensorflow:Assets written to: my_cifar10_model_batch_norm\\assets\n"
     ]
    },
    {
     "name": "stdout",
     "output_type": "stream",
     "text": [
      "1407/1407 [==============================] - 55s 39ms/step - loss: 1.5045 - accuracy: 0.4625 - val_loss: 1.5272 - val_accuracy: 0.4554\n",
      "Epoch 15/100\n",
      "1407/1407 [==============================] - 35s 25ms/step - loss: 1.4880 - accuracy: 0.4693 - val_loss: 1.5351 - val_accuracy: 0.4548\n",
      "Epoch 16/100\n",
      "1407/1407 [==============================] - 36s 26ms/step - loss: 1.4672 - accuracy: 0.4789 - val_loss: 1.5497 - val_accuracy: 0.4448\n",
      "Epoch 17/100\n",
      "1406/1407 [============================>.] - ETA: 0s - loss: 1.4431 - accuracy: 0.4883INFO:tensorflow:Assets written to: my_cifar10_model_batch_norm\\assets\n"
     ]
    },
    {
     "name": "stderr",
     "output_type": "stream",
     "text": [
      "INFO:tensorflow:Assets written to: my_cifar10_model_batch_norm\\assets\n"
     ]
    },
    {
     "name": "stdout",
     "output_type": "stream",
     "text": [
      "1407/1407 [==============================] - 56s 40ms/step - loss: 1.4433 - accuracy: 0.4883 - val_loss: 1.5257 - val_accuracy: 0.4488\n",
      "Epoch 18/100\n",
      "1406/1407 [============================>.] - ETA: 0s - loss: 1.4267 - accuracy: 0.4916INFO:tensorflow:Assets written to: my_cifar10_model_batch_norm\\assets\n"
     ]
    },
    {
     "name": "stderr",
     "output_type": "stream",
     "text": [
      "INFO:tensorflow:Assets written to: my_cifar10_model_batch_norm\\assets\n"
     ]
    },
    {
     "name": "stdout",
     "output_type": "stream",
     "text": [
      "1407/1407 [==============================] - 56s 40ms/step - loss: 1.4268 - accuracy: 0.4915 - val_loss: 1.5048 - val_accuracy: 0.4642\n",
      "Epoch 19/100\n",
      "1407/1407 [==============================] - 36s 25ms/step - loss: 1.4073 - accuracy: 0.4979 - val_loss: 1.5774 - val_accuracy: 0.4346\n",
      "Epoch 20/100\n",
      "1407/1407 [==============================] - 36s 26ms/step - loss: 1.3974 - accuracy: 0.5029 - val_loss: 1.8698 - val_accuracy: 0.3550\n",
      "Epoch 21/100\n",
      "1407/1407 [==============================] - 36s 26ms/step - loss: 1.3794 - accuracy: 0.5092 - val_loss: 1.5064 - val_accuracy: 0.4612\n",
      "Epoch 22/100\n",
      "1407/1407 [==============================] - 36s 26ms/step - loss: 1.3651 - accuracy: 0.5135 - val_loss: 1.5142 - val_accuracy: 0.4638\n",
      "Epoch 23/100\n",
      "1407/1407 [==============================] - ETA: 0s - loss: 1.3485 - accuracy: 0.5182INFO:tensorflow:Assets written to: my_cifar10_model_batch_norm\\assets\n"
     ]
    },
    {
     "name": "stderr",
     "output_type": "stream",
     "text": [
      "INFO:tensorflow:Assets written to: my_cifar10_model_batch_norm\\assets\n"
     ]
    },
    {
     "name": "stdout",
     "output_type": "stream",
     "text": [
      "1407/1407 [==============================] - 58s 41ms/step - loss: 1.3485 - accuracy: 0.5182 - val_loss: 1.4895 - val_accuracy: 0.4768\n",
      "Epoch 24/100\n",
      "1406/1407 [============================>.] - ETA: 0s - loss: 1.3337 - accuracy: 0.5257INFO:tensorflow:Assets written to: my_cifar10_model_batch_norm\\assets\n"
     ]
    },
    {
     "name": "stderr",
     "output_type": "stream",
     "text": [
      "INFO:tensorflow:Assets written to: my_cifar10_model_batch_norm\\assets\n"
     ]
    },
    {
     "name": "stdout",
     "output_type": "stream",
     "text": [
      "1407/1407 [==============================] - 56s 40ms/step - loss: 1.3338 - accuracy: 0.5256 - val_loss: 1.4402 - val_accuracy: 0.4866\n",
      "Epoch 25/100\n",
      "1407/1407 [==============================] - 36s 25ms/step - loss: 1.3237 - accuracy: 0.5312 - val_loss: 1.6118 - val_accuracy: 0.4402\n",
      "Epoch 26/100\n",
      "1407/1407 [==============================] - 36s 26ms/step - loss: 1.3077 - accuracy: 0.5358 - val_loss: 1.4763 - val_accuracy: 0.4716\n",
      "Epoch 27/100\n",
      "1407/1407 [==============================] - 36s 26ms/step - loss: 1.2930 - accuracy: 0.5394 - val_loss: 1.4509 - val_accuracy: 0.4870\n",
      "Epoch 28/100\n",
      "1407/1407 [==============================] - 36s 26ms/step - loss: 1.2830 - accuracy: 0.5448 - val_loss: 1.4496 - val_accuracy: 0.4912\n",
      "Epoch 29/100\n",
      "1407/1407 [==============================] - 36s 26ms/step - loss: 1.2685 - accuracy: 0.5512 - val_loss: 1.4607 - val_accuracy: 0.4866\n",
      "Epoch 30/100\n",
      "1407/1407 [==============================] - 36s 26ms/step - loss: 1.2628 - accuracy: 0.5532 - val_loss: 1.4925 - val_accuracy: 0.4802\n",
      "Epoch 31/100\n",
      "1407/1407 [==============================] - 39s 28ms/step - loss: 1.2459 - accuracy: 0.5575 - val_loss: 1.5976 - val_accuracy: 0.4478\n",
      "Epoch 32/100\n",
      "1407/1407 [==============================] - 35s 25ms/step - loss: 1.2374 - accuracy: 0.5599 - val_loss: 1.6020 - val_accuracy: 0.4450\n",
      "Epoch 33/100\n",
      "1407/1407 [==============================] - 39s 28ms/step - loss: 1.2297 - accuracy: 0.5652 - val_loss: 1.5364 - val_accuracy: 0.4828\n",
      "Epoch 34/100\n",
      "1407/1407 [==============================] - 36s 26ms/step - loss: 1.2159 - accuracy: 0.5694 - val_loss: 1.4925 - val_accuracy: 0.4808\n",
      "Epoch 35/100\n",
      "1407/1407 [==============================] - ETA: 0s - loss: 1.2046 - accuracy: 0.5725INFO:tensorflow:Assets written to: my_cifar10_model_batch_norm\\assets\n"
     ]
    },
    {
     "name": "stderr",
     "output_type": "stream",
     "text": [
      "INFO:tensorflow:Assets written to: my_cifar10_model_batch_norm\\assets\n"
     ]
    }
   ],
   "source": [
    "model = tf.keras.models.Sequential()\n",
    "model.add(tf.keras.layers.Flatten(input_shape=[32,32,3]))\n",
    "for _ in range(20):\n",
    "    model.add(tf.keras.layers.Dense(100, kernel_initializer='he_normal'))\n",
    "    model.add(tf.keras.layers.BatchNormalization())\n",
    "    model.add(tf.keras.layers.Activation(\"swish\"))\n",
    "\n",
    "model.add(tf.keras.layers.Dense(10, activation='softmax'))\n",
    "\n",
    "optimizer = tf.keras.optimizers.Nadam(learning_rate=5e-5)\n",
    "model.compile(loss=\"sparse_categorical_crossentropy\", \n",
    "              optimizer=optimizer, \n",
    "              metrics=[\"accuracy\"])\n",
    "\n",
    "early_stopping = tf.keras.callbacks.EarlyStopping(patience=20, restore_best_weights=True)\n",
    "checkpoint = tf.keras.callbacks.ModelCheckpoint(\"my_cifar10_model_batch_norm\",\n",
    "                                               save_best_only=True)\n",
    "model.fit(X_train, y_train, epochs=100,\n",
    "          validation_data=(X_valid, y_valid),\n",
    "          callbacks=[early_stopping,checkpoint])\n",
    "\n",
    "model.evaluate(X_valid, y_valid)"
   ]
  },
  {
   "cell_type": "code",
   "execution_count": 5,
   "metadata": {},
   "outputs": [],
   "source": [
    "model = tf.keras.models.Sequential()\n",
    "model.add(tf.keras.layers.Flatten(input_shape=[32,32,3]))\n",
    "for _ in range(20):\n",
    "    model.add(tf.keras.layers.Dense(100, activation='selu', kernel_initializer='lecun_normal'))\n",
    "model.add(tf.keras.layers.Dense(10, activation='softmax'))\n",
    "\n",
    "optimizer = tf.keras.optimizers.Nadam(5e-5)\n",
    "model.compile(loss='sparse_categorical_crossentropy',\n",
    "              optimizer=optimizer,\n",
    "              metrics=[\"accuracy\"])"
   ]
  },
  {
   "cell_type": "code",
   "execution_count": 8,
   "metadata": {},
   "outputs": [],
   "source": [
    "X_mean = X_train.mean(axis=0)\n",
    "X_std = X_train.std(axis=0)\n",
    "\n",
    "X_train_scaled = (X_train - X_mean) / X_std\n",
    "X_valid_Scaled = (X_valid - X_mean) / X_std \n",
    "X_test_Scaled = (X_test - X_mean) / X_std "
   ]
  },
  {
   "cell_type": "code",
   "execution_count": 9,
   "metadata": {},
   "outputs": [
    {
     "name": "stdout",
     "output_type": "stream",
     "text": [
      "Epoch 1/100\n",
      "1404/1407 [============================>.] - ETA: 0s - loss: 1.8690 - accuracy: 0.3345INFO:tensorflow:Assets written to: my_cifar10_model_selu\\assets\n"
     ]
    },
    {
     "name": "stderr",
     "output_type": "stream",
     "text": [
      "INFO:tensorflow:Assets written to: my_cifar10_model_selu\\assets\n"
     ]
    },
    {
     "name": "stdout",
     "output_type": "stream",
     "text": [
      "1407/1407 [==============================] - 47s 22ms/step - loss: 1.8684 - accuracy: 0.3347 - val_loss: 1.7127 - val_accuracy: 0.3922\n",
      "Epoch 2/100\n",
      "1407/1407 [==============================] - ETA: 0s - loss: 1.6376 - accuracy: 0.4173INFO:tensorflow:Assets written to: my_cifar10_model_selu\\assets\n"
     ]
    },
    {
     "name": "stderr",
     "output_type": "stream",
     "text": [
      "INFO:tensorflow:Assets written to: my_cifar10_model_selu\\assets\n"
     ]
    },
    {
     "name": "stdout",
     "output_type": "stream",
     "text": [
      "1407/1407 [==============================] - 34s 24ms/step - loss: 1.6376 - accuracy: 0.4173 - val_loss: 1.6136 - val_accuracy: 0.4260\n",
      "Epoch 3/100\n",
      "1406/1407 [============================>.] - ETA: 0s - loss: 1.5407 - accuracy: 0.4494INFO:tensorflow:Assets written to: my_cifar10_model_selu\\assets\n"
     ]
    },
    {
     "name": "stderr",
     "output_type": "stream",
     "text": [
      "INFO:tensorflow:Assets written to: my_cifar10_model_selu\\assets\n"
     ]
    },
    {
     "name": "stdout",
     "output_type": "stream",
     "text": [
      "1407/1407 [==============================] - 33s 23ms/step - loss: 1.5408 - accuracy: 0.4493 - val_loss: 1.5432 - val_accuracy: 0.4562\n",
      "Epoch 4/100\n",
      "1407/1407 [==============================] - ETA: 0s - loss: 1.4699 - accuracy: 0.4783INFO:tensorflow:Assets written to: my_cifar10_model_selu\\assets\n"
     ]
    },
    {
     "name": "stderr",
     "output_type": "stream",
     "text": [
      "INFO:tensorflow:Assets written to: my_cifar10_model_selu\\assets\n"
     ]
    },
    {
     "name": "stdout",
     "output_type": "stream",
     "text": [
      "1407/1407 [==============================] - 31s 22ms/step - loss: 1.4699 - accuracy: 0.4783 - val_loss: 1.5126 - val_accuracy: 0.4618\n",
      "Epoch 5/100\n",
      "1407/1407 [==============================] - 25s 18ms/step - loss: 1.4096 - accuracy: 0.4964 - val_loss: 1.5151 - val_accuracy: 0.4642\n",
      "Epoch 6/100\n",
      "1404/1407 [============================>.] - ETA: 0s - loss: 1.3575 - accuracy: 0.5183INFO:tensorflow:Assets written to: my_cifar10_model_selu\\assets\n"
     ]
    },
    {
     "name": "stderr",
     "output_type": "stream",
     "text": [
      "INFO:tensorflow:Assets written to: my_cifar10_model_selu\\assets\n"
     ]
    },
    {
     "name": "stdout",
     "output_type": "stream",
     "text": [
      "1407/1407 [==============================] - 31s 22ms/step - loss: 1.3573 - accuracy: 0.5184 - val_loss: 1.4967 - val_accuracy: 0.4724\n",
      "Epoch 7/100\n",
      "1407/1407 [==============================] - ETA: 0s - loss: 1.3121 - accuracy: 0.5332INFO:tensorflow:Assets written to: my_cifar10_model_selu\\assets\n"
     ]
    },
    {
     "name": "stderr",
     "output_type": "stream",
     "text": [
      "INFO:tensorflow:Assets written to: my_cifar10_model_selu\\assets\n"
     ]
    },
    {
     "name": "stdout",
     "output_type": "stream",
     "text": [
      "1407/1407 [==============================] - 28s 20ms/step - loss: 1.3121 - accuracy: 0.5332 - val_loss: 1.4929 - val_accuracy: 0.4744\n",
      "Epoch 8/100\n",
      "1404/1407 [============================>.] - ETA: 0s - loss: 1.2697 - accuracy: 0.5469INFO:tensorflow:Assets written to: my_cifar10_model_selu\\assets\n"
     ]
    },
    {
     "name": "stderr",
     "output_type": "stream",
     "text": [
      "INFO:tensorflow:Assets written to: my_cifar10_model_selu\\assets\n"
     ]
    },
    {
     "name": "stdout",
     "output_type": "stream",
     "text": [
      "1407/1407 [==============================] - 28s 20ms/step - loss: 1.2698 - accuracy: 0.5467 - val_loss: 1.4874 - val_accuracy: 0.4780\n",
      "Epoch 9/100\n",
      "1407/1407 [==============================] - 24s 17ms/step - loss: 1.2274 - accuracy: 0.5638 - val_loss: 1.4944 - val_accuracy: 0.4854\n",
      "Epoch 10/100\n",
      "1407/1407 [==============================] - 24s 17ms/step - loss: 1.1923 - accuracy: 0.5757 - val_loss: 1.4951 - val_accuracy: 0.4846\n",
      "Epoch 11/100\n",
      "1407/1407 [==============================] - 24s 17ms/step - loss: 1.1559 - accuracy: 0.5873 - val_loss: 1.5072 - val_accuracy: 0.4854\n",
      "Epoch 12/100\n",
      "1407/1407 [==============================] - ETA: 0s - loss: 1.1255 - accuracy: 0.5994INFO:tensorflow:Assets written to: my_cifar10_model_selu\\assets\n"
     ]
    },
    {
     "name": "stderr",
     "output_type": "stream",
     "text": [
      "INFO:tensorflow:Assets written to: my_cifar10_model_selu\\assets\n"
     ]
    },
    {
     "name": "stdout",
     "output_type": "stream",
     "text": [
      "1407/1407 [==============================] - 30s 21ms/step - loss: 1.1255 - accuracy: 0.5994 - val_loss: 1.4799 - val_accuracy: 0.4864\n",
      "Epoch 13/100\n",
      "1407/1407 [==============================] - 24s 17ms/step - loss: 1.0914 - accuracy: 0.6124 - val_loss: 1.4960 - val_accuracy: 0.4964\n",
      "Epoch 14/100\n",
      "1407/1407 [==============================] - 24s 17ms/step - loss: 1.0601 - accuracy: 0.6209 - val_loss: 1.5214 - val_accuracy: 0.4888\n",
      "Epoch 15/100\n",
      "1407/1407 [==============================] - 24s 17ms/step - loss: 1.0314 - accuracy: 0.6367 - val_loss: 1.5298 - val_accuracy: 0.4860\n",
      "Epoch 16/100\n",
      "1407/1407 [==============================] - 24s 17ms/step - loss: 1.0008 - accuracy: 0.6454 - val_loss: 1.5280 - val_accuracy: 0.4978\n",
      "Epoch 17/100\n",
      "1407/1407 [==============================] - 24s 17ms/step - loss: 0.9744 - accuracy: 0.6548 - val_loss: 1.5434 - val_accuracy: 0.5000\n",
      "Epoch 18/100\n",
      "1407/1407 [==============================] - 24s 17ms/step - loss: 0.9476 - accuracy: 0.6650 - val_loss: 1.5621 - val_accuracy: 0.4922\n",
      "Epoch 19/100\n",
      "1407/1407 [==============================] - 24s 17ms/step - loss: 0.9181 - accuracy: 0.6754 - val_loss: 1.5721 - val_accuracy: 0.5016\n",
      "Epoch 20/100\n",
      "1407/1407 [==============================] - 24s 17ms/step - loss: 0.8945 - accuracy: 0.6816 - val_loss: 1.6006 - val_accuracy: 0.5006\n",
      "Epoch 21/100\n",
      "1407/1407 [==============================] - 25s 18ms/step - loss: 0.8664 - accuracy: 0.6946 - val_loss: 1.6286 - val_accuracy: 0.4910\n",
      "Epoch 22/100\n",
      "1407/1407 [==============================] - 24s 17ms/step - loss: 0.8432 - accuracy: 0.7030 - val_loss: 1.6611 - val_accuracy: 0.4920\n",
      "Epoch 23/100\n",
      "1407/1407 [==============================] - 24s 17ms/step - loss: 0.8205 - accuracy: 0.7104 - val_loss: 1.6789 - val_accuracy: 0.4984\n",
      "Epoch 24/100\n",
      "1407/1407 [==============================] - 24s 17ms/step - loss: 0.7927 - accuracy: 0.7198 - val_loss: 1.7077 - val_accuracy: 0.4878\n",
      "Epoch 25/100\n",
      "1407/1407 [==============================] - 24s 17ms/step - loss: 0.7706 - accuracy: 0.7306 - val_loss: 1.7391 - val_accuracy: 0.4826\n",
      "Epoch 26/100\n",
      "1407/1407 [==============================] - 25s 18ms/step - loss: 0.7477 - accuracy: 0.7384 - val_loss: 1.7838 - val_accuracy: 0.4810\n",
      "Epoch 27/100\n",
      "1407/1407 [==============================] - 25s 18ms/step - loss: 0.7316 - accuracy: 0.7411 - val_loss: 1.7854 - val_accuracy: 0.4782\n",
      "Epoch 28/100\n",
      "1407/1407 [==============================] - 25s 17ms/step - loss: 0.7057 - accuracy: 0.7543 - val_loss: 1.7974 - val_accuracy: 0.4824\n",
      "Epoch 29/100\n",
      "1407/1407 [==============================] - 25s 17ms/step - loss: 0.6855 - accuracy: 0.7598 - val_loss: 1.8406 - val_accuracy: 0.4910\n",
      "Epoch 30/100\n",
      "1407/1407 [==============================] - 25s 17ms/step - loss: 0.6629 - accuracy: 0.7672 - val_loss: 1.8779 - val_accuracy: 0.4838\n",
      "Epoch 31/100\n",
      "1407/1407 [==============================] - 25s 18ms/step - loss: 0.6424 - accuracy: 0.7740 - val_loss: 1.9497 - val_accuracy: 0.4766\n",
      "Epoch 32/100\n",
      "1407/1407 [==============================] - 25s 18ms/step - loss: 0.6268 - accuracy: 0.7814 - val_loss: 1.9798 - val_accuracy: 0.4840\n"
     ]
    },
    {
     "data": {
      "text/plain": [
       "<keras.src.callbacks.History at 0x207fa9b9390>"
      ]
     },
     "execution_count": 9,
     "metadata": {},
     "output_type": "execute_result"
    }
   ],
   "source": [
    "early_stopping = tf.keras.callbacks.EarlyStopping(patience=20, restore_best_weights=True)\n",
    "checkpoint = tf.keras.callbacks.ModelCheckpoint(\"my_cifar10_model_selu\",\n",
    "                                               save_best_only=True)\n",
    "\n",
    "model.fit(X_train_scaled, y_train, epochs=100,\n",
    "          validation_data=(X_valid_Scaled,y_valid),\n",
    "          callbacks=[early_stopping,checkpoint])"
   ]
  },
  {
   "cell_type": "code",
   "execution_count": 10,
   "metadata": {},
   "outputs": [
    {
     "name": "stdout",
     "output_type": "stream",
     "text": [
      "157/157 [==============================] - 1s 8ms/step - loss: 1.4799 - accuracy: 0.4864\n"
     ]
    },
    {
     "data": {
      "text/plain": [
       "[1.4798532724380493, 0.4864000082015991]"
      ]
     },
     "execution_count": 10,
     "metadata": {},
     "output_type": "execute_result"
    }
   ],
   "source": [
    "model.evaluate(X_valid_Scaled, y_valid)"
   ]
  },
  {
   "cell_type": "code",
   "execution_count": 11,
   "metadata": {},
   "outputs": [],
   "source": [
    "model = tf.keras.models.Sequential()\n",
    "model.add(tf.keras.layers.Flatten(input_shape=[32,32,3]))\n",
    "for _ in range(20):\n",
    "    model.add(tf.keras.layers.Dense(100, activation='selu', kernel_initializer='lecun_normal'))\n",
    "model.add(tf.keras.layers.AlphaDropout(rate=0.1))\n",
    "model.add(tf.keras.layers.Dense(10, activation='softmax'))\n",
    "\n",
    "optimizer = tf.keras.optimizers.Nadam(5e-5)\n",
    "model.compile(loss='sparse_categorical_crossentropy',\n",
    "              optimizer=optimizer,\n",
    "              metrics=[\"accuracy\"])"
   ]
  },
  {
   "cell_type": "code",
   "execution_count": 12,
   "metadata": {},
   "outputs": [
    {
     "name": "stdout",
     "output_type": "stream",
     "text": [
      "Epoch 1/100\n",
      "1407/1407 [==============================] - ETA: 0s - loss: 2.0327 - accuracy: 0.2904INFO:tensorflow:Assets written to: my_cifar10_model_alpha_dropout\\assets\n"
     ]
    },
    {
     "name": "stderr",
     "output_type": "stream",
     "text": [
      "INFO:tensorflow:Assets written to: my_cifar10_model_alpha_dropout\\assets\n"
     ]
    },
    {
     "name": "stdout",
     "output_type": "stream",
     "text": [
      "1407/1407 [==============================] - 65s 31ms/step - loss: 2.0327 - accuracy: 0.2904 - val_loss: 1.7368 - val_accuracy: 0.3950\n",
      "Epoch 2/100\n",
      "1405/1407 [============================>.] - ETA: 0s - loss: 1.7507 - accuracy: 0.3828INFO:tensorflow:Assets written to: my_cifar10_model_alpha_dropout\\assets\n"
     ]
    },
    {
     "name": "stderr",
     "output_type": "stream",
     "text": [
      "INFO:tensorflow:Assets written to: my_cifar10_model_alpha_dropout\\assets\n"
     ]
    },
    {
     "name": "stdout",
     "output_type": "stream",
     "text": [
      "1407/1407 [==============================] - 32s 23ms/step - loss: 1.7507 - accuracy: 0.3828 - val_loss: 1.6580 - val_accuracy: 0.4164\n",
      "Epoch 3/100\n",
      "1406/1407 [============================>.] - ETA: 0s - loss: 1.6132 - accuracy: 0.4307INFO:tensorflow:Assets written to: my_cifar10_model_alpha_dropout\\assets\n"
     ]
    },
    {
     "name": "stderr",
     "output_type": "stream",
     "text": [
      "INFO:tensorflow:Assets written to: my_cifar10_model_alpha_dropout\\assets\n"
     ]
    },
    {
     "name": "stdout",
     "output_type": "stream",
     "text": [
      "1407/1407 [==============================] - 29s 21ms/step - loss: 1.6132 - accuracy: 0.4307 - val_loss: 1.5987 - val_accuracy: 0.4388\n",
      "Epoch 4/100\n",
      "1404/1407 [============================>.] - ETA: 0s - loss: 1.5232 - accuracy: 0.4629INFO:tensorflow:Assets written to: my_cifar10_model_alpha_dropout\\assets\n"
     ]
    },
    {
     "name": "stderr",
     "output_type": "stream",
     "text": [
      "INFO:tensorflow:Assets written to: my_cifar10_model_alpha_dropout\\assets\n"
     ]
    },
    {
     "name": "stdout",
     "output_type": "stream",
     "text": [
      "1407/1407 [==============================] - 30s 21ms/step - loss: 1.5234 - accuracy: 0.4628 - val_loss: 1.5639 - val_accuracy: 0.4578\n",
      "Epoch 5/100\n",
      "1407/1407 [==============================] - ETA: 0s - loss: 1.4578 - accuracy: 0.4860INFO:tensorflow:Assets written to: my_cifar10_model_alpha_dropout\\assets\n"
     ]
    },
    {
     "name": "stderr",
     "output_type": "stream",
     "text": [
      "INFO:tensorflow:Assets written to: my_cifar10_model_alpha_dropout\\assets\n"
     ]
    },
    {
     "name": "stdout",
     "output_type": "stream",
     "text": [
      "1407/1407 [==============================] - 29s 20ms/step - loss: 1.4578 - accuracy: 0.4860 - val_loss: 1.5440 - val_accuracy: 0.4684\n",
      "Epoch 6/100\n",
      "1407/1407 [==============================] - ETA: 0s - loss: 1.4005 - accuracy: 0.5027INFO:tensorflow:Assets written to: my_cifar10_model_alpha_dropout\\assets\n"
     ]
    },
    {
     "name": "stderr",
     "output_type": "stream",
     "text": [
      "INFO:tensorflow:Assets written to: my_cifar10_model_alpha_dropout\\assets\n"
     ]
    },
    {
     "name": "stdout",
     "output_type": "stream",
     "text": [
      "1407/1407 [==============================] - 32s 23ms/step - loss: 1.4005 - accuracy: 0.5027 - val_loss: 1.5337 - val_accuracy: 0.4744\n",
      "Epoch 7/100\n",
      "1405/1407 [============================>.] - ETA: 0s - loss: 1.3523 - accuracy: 0.5237INFO:tensorflow:Assets written to: my_cifar10_model_alpha_dropout\\assets\n"
     ]
    },
    {
     "name": "stderr",
     "output_type": "stream",
     "text": [
      "INFO:tensorflow:Assets written to: my_cifar10_model_alpha_dropout\\assets\n"
     ]
    },
    {
     "name": "stdout",
     "output_type": "stream",
     "text": [
      "1407/1407 [==============================] - 30s 22ms/step - loss: 1.3523 - accuracy: 0.5237 - val_loss: 1.5189 - val_accuracy: 0.4818\n",
      "Epoch 8/100\n",
      "1407/1407 [==============================] - 25s 18ms/step - loss: 1.3101 - accuracy: 0.5357 - val_loss: 1.5254 - val_accuracy: 0.4832\n",
      "Epoch 9/100\n",
      "1406/1407 [============================>.] - ETA: 0s - loss: 1.2713 - accuracy: 0.5511INFO:tensorflow:Assets written to: my_cifar10_model_alpha_dropout\\assets\n"
     ]
    },
    {
     "name": "stderr",
     "output_type": "stream",
     "text": [
      "INFO:tensorflow:Assets written to: my_cifar10_model_alpha_dropout\\assets\n"
     ]
    },
    {
     "name": "stdout",
     "output_type": "stream",
     "text": [
      "1407/1407 [==============================] - 31s 22ms/step - loss: 1.2712 - accuracy: 0.5512 - val_loss: 1.5118 - val_accuracy: 0.4918\n",
      "Epoch 10/100\n",
      "1407/1407 [==============================] - 25s 18ms/step - loss: 1.2325 - accuracy: 0.5653 - val_loss: 1.5370 - val_accuracy: 0.4888\n",
      "Epoch 11/100\n",
      "1407/1407 [==============================] - 25s 18ms/step - loss: 1.1999 - accuracy: 0.5767 - val_loss: 1.5384 - val_accuracy: 0.4950\n",
      "Epoch 12/100\n",
      "1407/1407 [==============================] - 25s 18ms/step - loss: 1.1653 - accuracy: 0.5900 - val_loss: 1.5392 - val_accuracy: 0.4902\n",
      "Epoch 13/100\n",
      "1407/1407 [==============================] - 26s 18ms/step - loss: 1.1336 - accuracy: 0.5997 - val_loss: 1.5685 - val_accuracy: 0.4986\n",
      "Epoch 14/100\n",
      "1407/1407 [==============================] - 26s 18ms/step - loss: 1.1049 - accuracy: 0.6094 - val_loss: 1.5849 - val_accuracy: 0.4988\n",
      "Epoch 15/100\n",
      "1407/1407 [==============================] - 26s 18ms/step - loss: 1.0721 - accuracy: 0.6215 - val_loss: 1.6066 - val_accuracy: 0.4992\n",
      "Epoch 16/100\n",
      "1407/1407 [==============================] - 25s 18ms/step - loss: 1.0466 - accuracy: 0.6282 - val_loss: 1.6158 - val_accuracy: 0.5038\n",
      "Epoch 17/100\n",
      "1407/1407 [==============================] - 26s 18ms/step - loss: 1.0154 - accuracy: 0.6400 - val_loss: 1.6416 - val_accuracy: 0.4936\n",
      "Epoch 18/100\n",
      "1407/1407 [==============================] - 25s 18ms/step - loss: 0.9917 - accuracy: 0.6484 - val_loss: 1.6410 - val_accuracy: 0.5030\n",
      "Epoch 19/100\n",
      "1407/1407 [==============================] - 28s 20ms/step - loss: 0.9658 - accuracy: 0.6586 - val_loss: 1.6893 - val_accuracy: 0.5070\n",
      "Epoch 20/100\n",
      "1407/1407 [==============================] - 26s 18ms/step - loss: 0.9406 - accuracy: 0.6684 - val_loss: 1.7157 - val_accuracy: 0.5036\n",
      "Epoch 21/100\n",
      "1407/1407 [==============================] - 25s 17ms/step - loss: 0.9153 - accuracy: 0.6773 - val_loss: 1.7255 - val_accuracy: 0.4928\n",
      "Epoch 22/100\n",
      "1407/1407 [==============================] - 25s 17ms/step - loss: 0.8960 - accuracy: 0.6839 - val_loss: 1.7567 - val_accuracy: 0.4996\n",
      "Epoch 23/100\n",
      "1407/1407 [==============================] - 25s 18ms/step - loss: 0.8687 - accuracy: 0.6913 - val_loss: 1.8420 - val_accuracy: 0.4948\n",
      "Epoch 24/100\n",
      "1407/1407 [==============================] - 25s 18ms/step - loss: 0.8476 - accuracy: 0.6997 - val_loss: 1.8673 - val_accuracy: 0.4970\n",
      "Epoch 25/100\n",
      "1407/1407 [==============================] - 25s 18ms/step - loss: 0.8261 - accuracy: 0.7077 - val_loss: 1.8613 - val_accuracy: 0.4996\n",
      "Epoch 26/100\n",
      "1407/1407 [==============================] - 25s 18ms/step - loss: 0.8017 - accuracy: 0.7159 - val_loss: 1.9128 - val_accuracy: 0.5028\n",
      "Epoch 27/100\n",
      "1407/1407 [==============================] - 25s 18ms/step - loss: 0.7851 - accuracy: 0.7214 - val_loss: 1.9417 - val_accuracy: 0.4984\n",
      "Epoch 28/100\n",
      "1407/1407 [==============================] - 25s 18ms/step - loss: 0.7659 - accuracy: 0.7282 - val_loss: 1.9859 - val_accuracy: 0.4972\n",
      "Epoch 29/100\n",
      "1407/1407 [==============================] - 25s 18ms/step - loss: 0.7436 - accuracy: 0.7359 - val_loss: 2.0343 - val_accuracy: 0.4942\n"
     ]
    },
    {
     "data": {
      "text/plain": [
       "<keras.src.callbacks.History at 0x20792cc9650>"
      ]
     },
     "execution_count": 12,
     "metadata": {},
     "output_type": "execute_result"
    }
   ],
   "source": [
    "early_stopping = tf.keras.callbacks.EarlyStopping(patience=20, restore_best_weights=True)\n",
    "checkpoint = tf.keras.callbacks.ModelCheckpoint(\"my_cifar10_model_alpha_dropout\",\n",
    "                                               save_best_only=True)\n",
    "\n",
    "model.fit(X_train_scaled, y_train, epochs=100,\n",
    "          validation_data=(X_valid_Scaled,y_valid),\n",
    "          callbacks=[early_stopping,checkpoint])"
   ]
  },
  {
   "cell_type": "code",
   "execution_count": 14,
   "metadata": {},
   "outputs": [
    {
     "name": "stdout",
     "output_type": "stream",
     "text": [
      "157/157 [==============================] - 1s 4ms/step - loss: 1.5118 - accuracy: 0.4918\n"
     ]
    },
    {
     "data": {
      "text/plain": [
       "[1.5118390321731567, 0.4918000102043152]"
      ]
     },
     "execution_count": 14,
     "metadata": {},
     "output_type": "execute_result"
    }
   ],
   "source": [
    "model.evaluate(X_valid_Scaled, y_valid)"
   ]
  },
  {
   "cell_type": "code",
   "execution_count": 17,
   "metadata": {},
   "outputs": [],
   "source": [
    "import numpy as np\n",
    "\n",
    "class MCAlphaDropout(tf.keras.layers.AlphaDropout):\n",
    "    def call(self, inputs):\n",
    "        return super().call(inputs, training=True)"
   ]
  },
  {
   "cell_type": "code",
   "execution_count": 18,
   "metadata": {},
   "outputs": [],
   "source": [
    "mc_model = tf.keras.Sequential([\n",
    "    (\n",
    "        MCAlphaDropout(layer.rate)\n",
    "        if isinstance(layer, tf.keras.layers.AlphaDropout)\n",
    "        else layer\n",
    "    )\n",
    "    for layer in model.layers\n",
    "])"
   ]
  },
  {
   "cell_type": "code",
   "execution_count": 19,
   "metadata": {},
   "outputs": [],
   "source": [
    "def mc_dropout_predict_probas(mc_model, X, n_samples=10):\n",
    "    Y_probas = [mc_model.predict(X) for sample in range(n_samples)]\n",
    "    return np.mean(Y_probas, axis=0)\n",
    "\n",
    "def mc_dropout_predict_classes(mc_model, X, n_samples=10):\n",
    "    Y_probas = mc_dropout_predict_probas(mc_model, X, n_samples)\n",
    "    return Y_probas.argmax(axis=1)"
   ]
  },
  {
   "cell_type": "code",
   "execution_count": 20,
   "metadata": {},
   "outputs": [
    {
     "name": "stdout",
     "output_type": "stream",
     "text": [
      "157/157 [==============================] - 1s 6ms/step\n",
      "157/157 [==============================] - 1s 5ms/step\n",
      "157/157 [==============================] - 1s 5ms/step\n",
      "157/157 [==============================] - 1s 6ms/step\n",
      "157/157 [==============================] - 1s 4ms/step\n",
      "157/157 [==============================] - 1s 4ms/step\n",
      "157/157 [==============================] - 1s 5ms/step\n",
      "157/157 [==============================] - 1s 5ms/step\n",
      "157/157 [==============================] - 1s 4ms/step\n",
      "157/157 [==============================] - 1s 4ms/step\n"
     ]
    },
    {
     "data": {
      "text/plain": [
       "0.4888"
      ]
     },
     "execution_count": 20,
     "metadata": {},
     "output_type": "execute_result"
    }
   ],
   "source": [
    "tf.random.set_seed(42)\n",
    "\n",
    "y_pred = mc_dropout_predict_classes(mc_model, X_valid_Scaled)\n",
    "accuracy = (y_pred == y_valid[:, 0]).mean()\n",
    "accuracy"
   ]
  },
  {
   "cell_type": "code",
   "execution_count": 21,
   "metadata": {},
   "outputs": [],
   "source": [
    "tf.random.set_seed(42)\n",
    "\n",
    "model = tf.keras.Sequential()\n",
    "model.add(tf.keras.layers.Flatten(input_shape=[32, 32, 3]))\n",
    "for _ in range(20):\n",
    "    model.add(tf.keras.layers.Dense(100,\n",
    "                                 kernel_initializer=\"lecun_normal\",\n",
    "                                 activation=\"selu\"))\n",
    "\n",
    "model.add(tf.keras.layers.AlphaDropout(rate=0.1))\n",
    "model.add(tf.keras.layers.Dense(10, activation=\"softmax\"))\n",
    "\n",
    "optimizer = tf.keras.optimizers.SGD(learning_rate=5e-5)\n",
    "model.compile(loss=\"sparse_categorical_crossentropy\",\n",
    "              optimizer=optimizer,\n",
    "              metrics=[\"accuracy\"])"
   ]
  },
  {
   "cell_type": "code",
   "execution_count": 22,
   "metadata": {},
   "outputs": [],
   "source": [
    "K = tf.keras.backend\n",
    "\n",
    "class OneCycleScheduler(tf.keras.callbacks.Callback):\n",
    "    def __init__(self, iterations, max_lr=1e-3, start_lr=None,\n",
    "                 last_iterations=None, last_lr=None):\n",
    "        self.iterations = iterations\n",
    "        self.max_lr = max_lr\n",
    "        self.start_lr = start_lr or max_lr / 10\n",
    "        self.last_iterations = last_iterations or iterations // 10 + 1\n",
    "        self.half_iteration = (iterations - self.last_iterations) // 2\n",
    "        self.last_lr = last_lr or self.start_lr / 1000\n",
    "        self.iteration = 0\n",
    "\n",
    "    def _interpolate(self, iter1, iter2, lr1, lr2):\n",
    "        return (lr2 - lr1) * (self.iteration - iter1) / (iter2 - iter1) + lr1\n",
    "\n",
    "    def on_batch_begin(self, batch, logs):\n",
    "        if self.iteration < self.half_iteration:\n",
    "            lr = self._interpolate(0, self.half_iteration, self.start_lr,\n",
    "                                   self.max_lr)\n",
    "        elif self.iteration < 2 * self.half_iteration:\n",
    "            lr = self._interpolate(self.half_iteration, 2 * self.half_iteration,\n",
    "                                   self.max_lr, self.start_lr)\n",
    "        else:\n",
    "            lr = self._interpolate(2 * self.half_iteration, self.iterations,\n",
    "                                   self.start_lr, self.last_lr)\n",
    "        self.iteration += 1\n",
    "        K.set_value(self.model.optimizer.learning_rate, lr)"
   ]
  },
  {
   "cell_type": "code",
   "execution_count": 23,
   "metadata": {},
   "outputs": [
    {
     "name": "stdout",
     "output_type": "stream",
     "text": [
      "Epoch 1/15\n",
      "352/352 [==============================] - 15s 27ms/step - loss: 2.0447 - accuracy: 0.2920 - val_loss: 1.7773 - val_accuracy: 0.3704\n",
      "Epoch 2/15\n",
      "352/352 [==============================] - 8s 23ms/step - loss: 1.7495 - accuracy: 0.3830 - val_loss: 1.6762 - val_accuracy: 0.4130\n",
      "Epoch 3/15\n",
      "352/352 [==============================] - 9s 25ms/step - loss: 1.6226 - accuracy: 0.4246 - val_loss: 1.6185 - val_accuracy: 0.4350\n",
      "Epoch 4/15\n",
      "352/352 [==============================] - 10s 28ms/step - loss: 1.5511 - accuracy: 0.4509 - val_loss: 1.6175 - val_accuracy: 0.4414\n",
      "Epoch 5/15\n",
      "352/352 [==============================] - 9s 25ms/step - loss: 1.4962 - accuracy: 0.4705 - val_loss: 1.5910 - val_accuracy: 0.4538\n",
      "Epoch 6/15\n",
      "352/352 [==============================] - 8s 22ms/step - loss: 1.4556 - accuracy: 0.4831 - val_loss: 1.6054 - val_accuracy: 0.4462\n",
      "Epoch 7/15\n",
      "352/352 [==============================] - 8s 24ms/step - loss: 1.4174 - accuracy: 0.5002 - val_loss: 1.6729 - val_accuracy: 0.4282\n",
      "Epoch 8/15\n",
      "352/352 [==============================] - 9s 26ms/step - loss: 1.3463 - accuracy: 0.5263 - val_loss: 1.4958 - val_accuracy: 0.4804\n",
      "Epoch 9/15\n",
      "352/352 [==============================] - 8s 22ms/step - loss: 1.2727 - accuracy: 0.5510 - val_loss: 1.5516 - val_accuracy: 0.4742\n",
      "Epoch 10/15\n",
      "352/352 [==============================] - 8s 21ms/step - loss: 1.2010 - accuracy: 0.5763 - val_loss: 1.5302 - val_accuracy: 0.4982\n",
      "Epoch 11/15\n",
      "352/352 [==============================] - 7s 21ms/step - loss: 1.1351 - accuracy: 0.5976 - val_loss: 1.5068 - val_accuracy: 0.5032\n",
      "Epoch 12/15\n",
      "352/352 [==============================] - 8s 23ms/step - loss: 1.0658 - accuracy: 0.6217 - val_loss: 1.5081 - val_accuracy: 0.5094\n",
      "Epoch 13/15\n",
      "352/352 [==============================] - 8s 22ms/step - loss: 0.9973 - accuracy: 0.6442 - val_loss: 1.5236 - val_accuracy: 0.5174\n",
      "Epoch 14/15\n",
      "352/352 [==============================] - 8s 22ms/step - loss: 0.9325 - accuracy: 0.6684 - val_loss: 1.5484 - val_accuracy: 0.5204\n",
      "Epoch 15/15\n",
      "352/352 [==============================] - 8s 21ms/step - loss: 0.8913 - accuracy: 0.6840 - val_loss: 1.5748 - val_accuracy: 0.5186\n"
     ]
    }
   ],
   "source": [
    "import math\n",
    "\n",
    "batch_size = 128\n",
    "n_epochs = 15\n",
    "n_iterations = math.ceil(len(X_train_scaled) / batch_size) * n_epochs\n",
    "onecycle = OneCycleScheduler(n_iterations, max_lr=0.05)\n",
    "history = model.fit(X_train_scaled, y_train, epochs=n_epochs, batch_size=batch_size,\n",
    "                    validation_data=(X_valid_Scaled, y_valid),\n",
    "                    callbacks=[onecycle])"
   ]
  },
  {
   "cell_type": "code",
   "execution_count": null,
   "metadata": {},
   "outputs": [],
   "source": []
  }
 ],
 "metadata": {
  "kernelspec": {
   "display_name": "Python 3",
   "language": "python",
   "name": "python3"
  },
  "language_info": {
   "codemirror_mode": {
    "name": "ipython",
    "version": 3
   },
   "file_extension": ".py",
   "mimetype": "text/x-python",
   "name": "python",
   "nbconvert_exporter": "python",
   "pygments_lexer": "ipython3",
   "version": "3.11.0"
  }
 },
 "nbformat": 4,
 "nbformat_minor": 2
}
